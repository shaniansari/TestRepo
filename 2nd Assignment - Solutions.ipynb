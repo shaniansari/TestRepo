{
 "cells": [
  {
   "cell_type": "markdown",
   "metadata": {},
   "source": [
    "## 1. Divisibility Check of two numbers\n",
    "\n",
    "Write a Python program to check whether a number is completely divisible by another number. Accept two integer values form the user\n",
    "##### Program Console Sample Output 1:\n",
    "Enter numerator: 4\n",
    "\n",
    "Enter Denominator: 2\n",
    "\n",
    "Number 4 is Completely divisible by 2\n",
    "###### Program Console Sample Output 2:\n",
    "Enter numerator: 7\n",
    "\n",
    "Enter Denominator: 4\n",
    "\n",
    "Number 7 is not Completely divisible by 4"
   ]
  },
  {
   "cell_type": "code",
   "execution_count": 2,
   "metadata": {},
   "outputs": [
    {
     "name": "stdout",
     "output_type": "stream",
     "text": [
      "Enter Numerator7\n",
      "Enter Denominator4\n",
      "Number 7 is not completely divisible by  4\n"
     ]
    }
   ],
   "source": [
    "num1=int(input(\"Enter Numerator: \"))\n",
    "num2=int(input(\"Enter Denominator: \"))\n",
    "if(num1%num2==0):\n",
    "    print(\"Number\",num1, \"is completely divisible by \",num2)\n",
    "else:\n",
    "    print(\"Number\",num1, \"is not completely divisible by \",num2)"
   ]
  },
  {
   "cell_type": "markdown",
   "metadata": {},
   "source": [
    "## 2. Copy string n times\n",
    "Write a Python program to get a string which is n (non-negative integer) copies of a given string.\n",
    "##### Program Console Output:\n",
    "Enter String: Hi\n",
    "\n",
    "How many copies of String you need: 4\n",
    "\n",
    "4 Copies of Hi are HiHiHiHi"
   ]
  },
  {
   "cell_type": "code",
   "execution_count": 13,
   "metadata": {},
   "outputs": [
    {
     "name": "stdout",
     "output_type": "stream",
     "text": [
      "Enter String HI\n",
      "How many copies of String do u neeed: 4\n",
      "4 Copies of HI are HIHIHIHI\n"
     ]
    }
   ],
   "source": [
    "str=input(\"Enter String \")\n",
    "fstr=\"\"\n",
    "num=int(input(\"How many copies of String do u neeed: \"))\n",
    "for i in range(num):\n",
    "    fstr+=str\n",
    "print(num,\"Copies of\",str,\"are\",fstr)\n"
   ]
  },
  {
   "cell_type": "markdown",
   "metadata": {},
   "source": [
    "## 3. Vowel Tester\n",
    "Write a Python program to test whether a passed letter is a vowel or not\n",
    "#### Program Console Output 1:\n",
    "Enter a character: A\n",
    "\n",
    "Letter A is Vowel\n",
    "#### Program Console Output 2:\n",
    "Enter a character: e\n",
    "\n",
    "Letter e is Vowel\n",
    "#### Program Console Output 2:\n",
    "Enter a character: N\n",
    "Letter N is not Vowel"
   ]
  },
  {
   "cell_type": "code",
   "execution_count": 18,
   "metadata": {},
   "outputs": [
    {
     "name": "stdout",
     "output_type": "stream",
     "text": [
      "Enter a characterN\n",
      "Letter N is not Vowel\n"
     ]
    }
   ],
   "source": [
    "charc=input(\"Enter a character\")\n",
    "charc1=charc.lower()\n",
    "if(charc1=='a' or charc1=='e' or charc1=='i' or charc1=='o' or charc1=='u'):\n",
    "    print(\"Letter\",charc,\"is Vowel\")\n",
    "else:\n",
    "    print(\"Letter\",charc,\"is not Vowel\")\n"
   ]
  },
  {
   "cell_type": "markdown",
   "metadata": {},
   "source": [
    "## 4. Odd No.s\n",
    "Use the third argument of the range() function to make a list of the odd numbers from 1 to 20. Use a for loop to print each number."
   ]
  },
  {
   "cell_type": "code",
   "execution_count": 19,
   "metadata": {},
   "outputs": [
    {
     "name": "stdout",
     "output_type": "stream",
     "text": [
      "1\n",
      "3\n",
      "5\n",
      "7\n",
      "9\n",
      "11\n",
      "13\n",
      "15\n",
      "17\n",
      "19\n"
     ]
    }
   ],
   "source": [
    "for x in range(1,20,2):\n",
    "    print(x)"
   ]
  },
  {
   "cell_type": "markdown",
   "metadata": {},
   "source": [
    "## 5. Food Slicing\n",
    "Make a python program that contains your nine favourite dishes in a list called foods.Print the message, \n",
    "\n",
    "**The first three items in the list are:**\n",
    "\n",
    "Then use a slice to print the first three items from that program’s list.Print the message, \n",
    "\n",
    "**Three items from the middle of the list are:**\n",
    "\n",
    "Use a slice to print three items from the middle of the list.Print the message, \n",
    "\n",
    "**The last three items in the list are:**\n",
    "\n",
    "Use a slice to print the last three items in the list."
   ]
  },
  {
   "cell_type": "raw",
   "metadata": {},
   "source": []
  },
  {
   "cell_type": "code",
   "execution_count": 23,
   "metadata": {},
   "outputs": [
    {
     "name": "stdout",
     "output_type": "stream",
     "text": [
      "The first three items in the lists are: ['Pizza', 'Qorma', 'Biryani']\n",
      "The three items in middle of the lists are: ['Chowmin', 'Fried Rice', 'Sphegetti']\n",
      "The last three items in the lists are: ['handi', 'palak Paneer', 'Kabab']\n"
     ]
    }
   ],
   "source": [
    "foods=[\"Pizza\",\"Qorma\",\"Biryani\",\"Chowmin\",\"Fried Rice\",\"Sphegetti\",\"handi\", \"palak Paneer\",\"Kabab\"]\n",
    "print(\"The first three items in the lists are:\", foods[0:3])\n",
    "print(\"The three items in middle of the lists are:\", foods[3:6])\n",
    "print(\"The last three items in the lists are:\", foods[6:9])"
   ]
  },
  {
   "cell_type": "code",
   "execution_count": null,
   "metadata": {},
   "outputs": [],
   "source": []
  }
 ],
 "metadata": {
  "kernelspec": {
   "display_name": "Python 3",
   "language": "python",
   "name": "python3"
  },
  "language_info": {
   "codemirror_mode": {
    "name": "ipython",
    "version": 3
   },
   "file_extension": ".py",
   "mimetype": "text/x-python",
   "name": "python",
   "nbconvert_exporter": "python",
   "pygments_lexer": "ipython3",
   "version": "3.7.4"
  }
 },
 "nbformat": 4,
 "nbformat_minor": 2
}
